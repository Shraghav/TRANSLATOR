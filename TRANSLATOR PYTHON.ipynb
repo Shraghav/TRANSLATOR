{
 "cells": [
  {
   "cell_type": "code",
   "execution_count": 16,
   "id": "8a9f06f4",
   "metadata": {},
   "outputs": [
    {
     "name": "stdout",
     "output_type": "stream",
     "text": [
      "Enter the language you are writing:ENGLISH\n",
      "Enter the language you wish to convert:GERMAN\n",
      "ENTER\n",
      " 1)YES IF YOU WISH TO CONTINUE SAME FROM AND TWO LANGUAGE FOR THE NEXT WORD\n",
      " 2)ENTER NO IF YOU WISH DIFFERENT FROM AND TO LANGUAGE\n",
      " 3)PRESS ANY KEY IF YOU WISH TO EXIT YES\n",
      "Enter the word:HAPPY MAN\n",
      "fühle mich Glücklich\n",
      "ENTER\n",
      " 1)YES IF YOU WISH TO CONTINUE SAME FROM AND TWO LANGUAGE FOR THE NEXT WORD\n",
      " 2)ENTER NO IF YOU WISH DIFFERENT FROM AND TO LANGUAGE\n",
      " 3)PRESS ANY KEY IF YOU WISH TO EXIT NO\n",
      "Okay. Let me know your from and to language!\n",
      "Enter the language you are writing:GERMAN\n",
      "Enter the language you wish to convert:FRENCH\n",
      "Enter the word:GUTE MORGEN\n",
      "Bonne journÃ©e\n",
      "ENTER\n",
      " 1)YES IF YOU WISH TO CONTINUE SAME FROM AND TWO LANGUAGE FOR THE NEXT WORD\n",
      " 2)ENTER NO IF YOU WISH DIFFERENT FROM AND TO LANGUAGE\n",
      " 3)PRESS ANY KEY IF YOU WISH TO EXIT T\n",
      "THANK YOU!!\n"
     ]
    }
   ],
   "source": [
    "from translate import Translator\n",
    "a=input(\"Enter the language you are writing:\")\n",
    "b=input(\"Enter the language you wish to convert:\")\n",
    "while True:\n",
    "    def wish():\n",
    "        word=input(\"Enter the word:\")\n",
    "        cool=Translator(from_lang=a,to_lang=b)\n",
    "        hot=cool.translate(word)\n",
    "        print(hot)\n",
    "    def another():\n",
    "        print(\"Okay. Let me know your from and to language!\")\n",
    "        a=input(\"Enter the language you are writing:\")\n",
    "        b=input(\"Enter the language you wish to convert:\")\n",
    "        word=input(\"Enter the word:\")\n",
    "        cool=Translator(from_lang=a,to_lang=b)\n",
    "        hot=cool.translate(word)\n",
    "        print(hot)\n",
    "    con=input(\"\"\"ENTER\\n 1)YES IF YOU WISH TO CONTINUE SAME FROM AND TWO LANGUAGE FOR THE NEXT WORD\\n 2)ENTER NO IF YOU WISH DIFFERENT FROM AND TO LANGUAGE\\n 3)PRESS ANY KEY IF YOU WISH TO EXIT \"\"\").upper()\n",
    "    if con==\"YES\":\n",
    "        wish()\n",
    "    elif con==\"NO\":\n",
    "        another()\n",
    "    else:\n",
    "        print(\"THANK YOU!!\")\n",
    "        break"
   ]
  },
  {
   "cell_type": "code",
   "execution_count": null,
   "id": "f735c994",
   "metadata": {},
   "outputs": [],
   "source": []
  },
  {
   "cell_type": "code",
   "execution_count": null,
   "id": "2488e3c9",
   "metadata": {},
   "outputs": [],
   "source": []
  }
 ],
 "metadata": {
  "kernelspec": {
   "display_name": "Python 3 (ipykernel)",
   "language": "python",
   "name": "python3"
  },
  "language_info": {
   "codemirror_mode": {
    "name": "ipython",
    "version": 3
   },
   "file_extension": ".py",
   "mimetype": "text/x-python",
   "name": "python",
   "nbconvert_exporter": "python",
   "pygments_lexer": "ipython3",
   "version": "3.9.7"
  }
 },
 "nbformat": 4,
 "nbformat_minor": 5
}
